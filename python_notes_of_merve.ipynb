{
 "cells": [
  {
   "cell_type": "markdown",
   "id": "29569490",
   "metadata": {},
   "source": [
    "# Introduction to Python | Merve's Notes"
   ]
  },
  {
   "cell_type": "markdown",
   "id": "9aa84646",
   "metadata": {},
   "source": [
    "### You can run these codes on both google colab and jupyter notebook."
   ]
  },
  {
   "cell_type": "markdown",
   "id": "07b1dc66",
   "metadata": {},
   "source": [
    "#### This is a Heading cell in jupyter(can be changed on the menu above)."
   ]
  },
  {
   "cell_type": "code",
   "execution_count": 13,
   "id": "20b82a17",
   "metadata": {},
   "outputs": [],
   "source": [
    "#This one is a code cell in jupyter(can be changed on the menu above)."
   ]
  },
  {
   "cell_type": "markdown",
   "id": "42ca3f68",
   "metadata": {},
   "source": [
    "This one is a markdown cell in jupyter(can be changed on the menu above)."
   ]
  },
  {
   "cell_type": "code",
   "execution_count": 2,
   "id": "8e4c7eee",
   "metadata": {},
   "outputs": [
    {
     "name": "stdout",
     "output_type": "stream",
     "text": [
      "Hello world!\n"
     ]
    }
   ],
   "source": [
    "#This is how you add comments in Python, with a hash symbol, anywhere in your code. So that Python will ignore and not run it.\n",
    "\n",
    "print(\"Hello world!\")  #This is an example of how you type code. You want Python to print \"Hello world!\" for you. \n",
    "#Press shift+enter to run the code or click run button on the menu above. You will see the output, below."
   ]
  },
  {
   "cell_type": "code",
   "execution_count": 3,
   "id": "988f6c29",
   "metadata": {},
   "outputs": [
    {
     "name": "stdout",
     "output_type": "stream",
     "text": [
      "\n",
      "Welcome to Python 3.9's help utility!\n",
      "\n",
      "If this is your first time using Python, you should definitely check out\n",
      "the tutorial on the Internet at https://docs.python.org/3.9/tutorial/.\n",
      "\n",
      "Enter the name of any module, keyword, or topic to get help on writing\n",
      "Python programs and using Python modules.  To quit this help utility and\n",
      "return to the interpreter, just type \"quit\".\n",
      "\n",
      "To get a list of available modules, keywords, symbols, or topics, type\n",
      "\"modules\", \"keywords\", \"symbols\", or \"topics\".  Each module also comes\n",
      "with a one-line summary of what it does; to list the modules whose name\n",
      "or summary contain a given string such as \"spam\", type \"modules spam\".\n",
      "\n",
      "help> keywords\n",
      "\n",
      "Here is a list of the Python keywords.  Enter any keyword to get more help.\n",
      "\n",
      "False               break               for                 not\n",
      "None                class               from                or\n",
      "True                continue            global              pass\n",
      "__peg_parser__      def                 if                  raise\n",
      "and                 del                 import              return\n",
      "as                  elif                in                  try\n",
      "assert              else                is                  while\n",
      "async               except              lambda              with\n",
      "await               finally             nonlocal            yield\n",
      "\n",
      "help> quit\n",
      "\n",
      "You are now leaving help and returning to the Python interpreter.\n",
      "If you want to ask for help on a particular object directly from the\n",
      "interpreter, you can type \"help(object)\".  Executing \"help('string')\"\n",
      "has the same effect as typing a particular string at the help> prompt.\n"
     ]
    }
   ],
   "source": [
    "#Let's learn how to get help, when we need.\n",
    "help()  \n",
    "#When you run this code above, you will be able to type in what you want to get help about. \n",
    "#Type \"keywords\" in example, and press enter. \n",
    "#You will get a list of keywords that Python knows already.\n",
    "#Finally, type \"quit\" to quit this utility. "
   ]
  },
  {
   "cell_type": "code",
   "execution_count": 32,
   "id": "a8f76aa1",
   "metadata": {},
   "outputs": [],
   "source": [
    "\"\"\"These were the keywords that Python knows already, which have predefined purposes. \n",
    "However, you can define new variables and assign values to them in Python.\n",
    "When you run the code below, Python will know that pi variable have the value of 3.14, in example.\n",
    "Also, this is the way to comment in mutiple lines\"\"\"\n",
    "pi = 3.14   #for this, we have used the assignment operator"
   ]
  },
  {
   "cell_type": "code",
   "execution_count": 5,
   "id": "955fed08",
   "metadata": {},
   "outputs": [
    {
     "data": {
      "text/plain": [
       "3.14"
      ]
     },
     "execution_count": 5,
     "metadata": {},
     "output_type": "execute_result"
    }
   ],
   "source": [
    "pi  #Run this code to see what you get."
   ]
  },
  {
   "cell_type": "markdown",
   "id": "3e3b592b",
   "metadata": {},
   "source": [
    "If there is something wrong, you can try to click on Kernel -> restart on the jupyter menu above.\n",
    "\n",
    "If you want to add a cell, in between your codes, you can click on Insert -> Insert cell above or below on the menu. Try to use, \"a\" and \"b\" shortcuts as well for inserting cells. Also for deleting cells, you can press \"d\" two times."
   ]
  },
  {
   "cell_type": "code",
   "execution_count": 50,
   "id": "2fdb9907",
   "metadata": {},
   "outputs": [
    {
     "name": "stdout",
     "output_type": "stream",
     "text": [
      "3.14\n"
     ]
    }
   ],
   "source": [
    "print(pi)  #print function also can be used."
   ]
  },
  {
   "cell_type": "code",
   "execution_count": 1,
   "id": "c1e6d4b6",
   "metadata": {},
   "outputs": [
    {
     "data": {
      "text/plain": [
       "12"
      ]
     },
     "execution_count": 1,
     "metadata": {},
     "output_type": "execute_result"
    }
   ],
   "source": [
    "#arithmetic operations can be done in Python\n",
    "#+ is operator, 10 and 2 are operants below\n",
    "#run the code to see the result\n",
    "\n",
    "10+2  "
   ]
  },
  {
   "cell_type": "code",
   "execution_count": 10,
   "id": "f964c9b1",
   "metadata": {},
   "outputs": [
    {
     "data": {
      "text/plain": [
       "20"
      ]
     },
     "execution_count": 10,
     "metadata": {},
     "output_type": "execute_result"
    }
   ],
   "source": [
    "10 - 2\n",
    "10 / 2\n",
    "10 * 2   #When you run the code, you will only get the result of the last line of code"
   ]
  },
  {
   "cell_type": "code",
   "execution_count": 30,
   "id": "e9884e36",
   "metadata": {},
   "outputs": [
    {
     "name": "stdout",
     "output_type": "stream",
     "text": [
      "12\n",
      "8\n",
      "5.0\n",
      "20\n",
      "100\n",
      "0\n",
      "1\n"
     ]
    }
   ],
   "source": [
    "#However you can use print function to print them all out.\n",
    "print(10 + 2)\n",
    "print(10 - 2)\n",
    "print(10 / 2)\n",
    "print(10 * 2)\n",
    "print(10 ** 2)\n",
    "print(10%2)  #modular operator gives the remainder of the division.\n",
    "print(10%3)  #modular operator gives the remainder of the division. "
   ]
  },
  {
   "cell_type": "markdown",
   "id": "a724fefc",
   "metadata": {},
   "source": [
    "Notice that all results but one are integers (12, 8, 20, 100), since the operands are integers (10 and 2).\n",
    "Integers are whole numbers that can be positive, negative or zero.\n",
    "However one result (5.0) is a floating number (a positive/negative whole number with a decimal point).\n",
    "Because it is the result of a division operation.\n",
    "These integers and floating numbers are numeric data types called int and float."
   ]
  },
  {
   "cell_type": "code",
   "execution_count": 26,
   "id": "30f64ced",
   "metadata": {},
   "outputs": [
    {
     "name": "stdout",
     "output_type": "stream",
     "text": [
      "3\n",
      "4\n"
     ]
    }
   ],
   "source": [
    "#However, the divison type below let's you to only keep the integer part of the number.\n",
    "print(10//3)   #returns the integer, whole number of the result, not the decimal part. 3 instead of 3.333...\n",
    "print(9//2)   #returns the integer, whole number of the result, not the decimal part. 4 instead of 4.5"
   ]
  },
  {
   "cell_type": "code",
   "execution_count": 4,
   "id": "8ed65f8b",
   "metadata": {},
   "outputs": [
    {
     "name": "stdout",
     "output_type": "stream",
     "text": [
      "12.0\n",
      "8.0\n",
      "5.0\n",
      "20.0\n",
      "100.0\n"
     ]
    }
   ],
   "source": [
    "#If at least one operand's data type is float, then the result is a float no matter the operation.\n",
    "print(10 + 2.0)\n",
    "print(10.0 - 2.0)\n",
    "print(10.0 / 2)\n",
    "print(10 * 2.0)\n",
    "print(10.0 ** 2)"
   ]
  },
  {
   "cell_type": "code",
   "execution_count": 2,
   "id": "2ef4ea7f",
   "metadata": {},
   "outputs": [],
   "source": [
    "#Let's define a variable which has an integer value.\n",
    "number_1 = 30"
   ]
  },
  {
   "cell_type": "code",
   "execution_count": 89,
   "id": "f974ac49",
   "metadata": {},
   "outputs": [
    {
     "name": "stdout",
     "output_type": "stream",
     "text": [
      "<class 'int'>\n"
     ]
    }
   ],
   "source": [
    "#We can also check the data types of the variables we use.\n",
    "print(type(number_1))  #Run the code to see the data type."
   ]
  },
  {
   "cell_type": "code",
   "execution_count": 3,
   "id": "3acccd07",
   "metadata": {},
   "outputs": [],
   "source": [
    "#In our code, maybe we will need to increase the number_1 value. Let's say that it will increase by 0.5\n",
    "number_1 = 30 + 0.5"
   ]
  },
  {
   "cell_type": "code",
   "execution_count": 91,
   "id": "702fb785",
   "metadata": {},
   "outputs": [
    {
     "data": {
      "text/plain": [
       "30.5"
      ]
     },
     "execution_count": 91,
     "metadata": {},
     "output_type": "execute_result"
    }
   ],
   "source": [
    "#Now what happened to number_1, let's check it:\n",
    "number_1"
   ]
  },
  {
   "cell_type": "code",
   "execution_count": 92,
   "id": "d4757d1c",
   "metadata": {},
   "outputs": [
    {
     "data": {
      "text/plain": [
       "float"
      ]
     },
     "execution_count": 92,
     "metadata": {},
     "output_type": "execute_result"
    }
   ],
   "source": [
    "#What about its type? \n",
    "type(number_1)   #Run the code to see the data type."
   ]
  },
  {
   "cell_type": "code",
   "execution_count": 93,
   "id": "34237d3d",
   "metadata": {},
   "outputs": [
    {
     "name": "stdout",
     "output_type": "stream",
     "text": [
      "30.5 <class 'float'>\n"
     ]
    }
   ],
   "source": [
    "#We can check both the variable value and the datatype of it.\n",
    "print(number_1, type(number_1))"
   ]
  },
  {
   "cell_type": "code",
   "execution_count": 4,
   "id": "7f316837",
   "metadata": {},
   "outputs": [],
   "source": [
    "#Let's assume that we need to increase this number several times more. But we want to define it once. How to do it?\n",
    "#Remember the code above, number_1 = 30 + 0.5, we can address this in a shorter and proper way.\n",
    "#With our previous way, we need to type this: number_1 = 30.5 + 0.5. Instead, let's type this:\n",
    "\n",
    "number_1 += 0.5\n",
    "\n",
    "#Altering the numbers can be done with other operators as well. such as, -= , *= , /= "
   ]
  },
  {
   "cell_type": "code",
   "execution_count": 95,
   "id": "1547f87b",
   "metadata": {},
   "outputs": [
    {
     "name": "stdout",
     "output_type": "stream",
     "text": [
      "31.0 <class 'float'>\n"
     ]
    }
   ],
   "source": [
    "#See if it worked\n",
    "print(number_1, type(number_1))"
   ]
  },
  {
   "cell_type": "markdown",
   "id": "56eb125d",
   "metadata": {},
   "source": [
    "Notice that, type conversion happens automatically for mathematical operations. For some other cases we have to convert the datatype by ourselves. \n",
    "\n",
    "Another thing is that, once a number turned to float, it goes as float."
   ]
  },
  {
   "cell_type": "code",
   "execution_count": 5,
   "id": "79fd8a94",
   "metadata": {},
   "outputs": [],
   "source": [
    "#There are other data types like strings. Strings are mostly consist of letters. \n",
    "#The way to define strings in Python is to put quotation marks(\"\") or apostrophes('') on both sides of it.\n",
    "\n",
    "name = \"Merve\"  \n",
    "\n",
    "#I defined a variable called name with the value of \"Merve\". The data type of it is string."
   ]
  },
  {
   "cell_type": "code",
   "execution_count": 17,
   "id": "97731f02",
   "metadata": {},
   "outputs": [
    {
     "data": {
      "text/plain": [
       "'Merve'"
      ]
     },
     "execution_count": 17,
     "metadata": {},
     "output_type": "execute_result"
    }
   ],
   "source": [
    "name #Let's call it and see if it is stored."
   ]
  },
  {
   "cell_type": "code",
   "execution_count": 100,
   "id": "6d3baffb",
   "metadata": {},
   "outputs": [
    {
     "name": "stdout",
     "output_type": "stream",
     "text": [
      "Greetings, Merve\n"
     ]
    }
   ],
   "source": [
    "print(\"Greetings, Merve\")  \n",
    "#The built in print function of Python will print a string for me, anything in between \"\" or '' symbols."
   ]
  },
  {
   "cell_type": "code",
   "execution_count": 21,
   "id": "4d89345d",
   "metadata": {},
   "outputs": [
    {
     "name": "stdout",
     "output_type": "stream",
     "text": [
      "10 + 2\n"
     ]
    }
   ],
   "source": [
    "#If the data type is string, then anything in between \"\" or '' is treated as string.\n",
    "print(\"10 + 2\")   #Run the code to see if the math operation will be done or not."
   ]
  },
  {
   "cell_type": "code",
   "execution_count": 7,
   "id": "6b0acf3b",
   "metadata": {},
   "outputs": [
    {
     "name": "stdout",
     "output_type": "stream",
     "text": [
      "12\n",
      "10 + 2\n"
     ]
    }
   ],
   "source": [
    "print(10 + 2)  #This print function will print out the result of the sum of two integer data.\n",
    "print(\"10 + 2\")  #This print function will print out the string data."
   ]
  },
  {
   "cell_type": "markdown",
   "id": "94a8554a",
   "metadata": {},
   "source": [
    "See the difference above? Math operation is done only for the numeric data types. "
   ]
  },
  {
   "cell_type": "code",
   "execution_count": 31,
   "id": "624aec2f",
   "metadata": {},
   "outputs": [
    {
     "name": "stdout",
     "output_type": "stream",
     "text": [
      "10 + 2 = 12\n"
     ]
    }
   ],
   "source": [
    "#Also we can present our results in a better way:\n",
    "print(\"10 + 2 =\", 10+2)"
   ]
  },
  {
   "cell_type": "code",
   "execution_count": 9,
   "id": "bde3d7d2",
   "metadata": {},
   "outputs": [
    {
     "name": "stdout",
     "output_type": "stream",
     "text": [
      "Merve\n",
      "MerveMerveMerve\n",
      "MerveMerve\n"
     ]
    }
   ],
   "source": [
    "#However some mathematical operators (+,*) can be used for strings too:\n",
    "#Remember that I have assigned \"Merve\" value to the name variable before. Python keeps that.\n",
    "print(name)\n",
    "print(name*3)\n",
    "print(name+name)"
   ]
  },
  {
   "cell_type": "code",
   "execution_count": 7,
   "id": "8a30638c",
   "metadata": {},
   "outputs": [
    {
     "name": "stdout",
     "output_type": "stream",
     "text": [
      "MerveMerveMerve\n",
      "Merve5\n",
      "Merve 5\n"
     ]
    }
   ],
   "source": [
    "#Let's experiment some more.\n",
    "a = 3    #a will be treated as an integer.\n",
    "b = \"5\"   #b will be treated as a string.\n",
    "print(name*a)\n",
    "print(name+b)\n",
    "print(name, b)"
   ]
  },
  {
   "cell_type": "code",
   "execution_count": 8,
   "id": "c0056527",
   "metadata": {},
   "outputs": [
    {
     "ename": "TypeError",
     "evalue": "can only concatenate str (not \"int\") to str",
     "output_type": "error",
     "traceback": [
      "\u001b[1;31m---------------------------------------------------------------------------\u001b[0m",
      "\u001b[1;31mTypeError\u001b[0m                                 Traceback (most recent call last)",
      "\u001b[1;32m~\\AppData\\Local\\Temp/ipykernel_7132/2216417971.py\u001b[0m in \u001b[0;36m<module>\u001b[1;34m\u001b[0m\n\u001b[1;32m----> 1\u001b[1;33m \u001b[0mprint\u001b[0m\u001b[1;33m(\u001b[0m\u001b[0mname\u001b[0m\u001b[1;33m+\u001b[0m\u001b[0ma\u001b[0m\u001b[1;33m)\u001b[0m \u001b[1;31m#try this one to get the error\u001b[0m\u001b[1;33m\u001b[0m\u001b[1;33m\u001b[0m\u001b[0m\n\u001b[0m\u001b[0;32m      2\u001b[0m \u001b[1;33m\u001b[0m\u001b[0m\n\u001b[0;32m      3\u001b[0m \u001b[1;31m#It will tell you what's wrong. \"TypeError: can only concatenate str (not \"int\") to str\"\u001b[0m\u001b[1;33m\u001b[0m\u001b[1;33m\u001b[0m\u001b[0m\n\u001b[0;32m      4\u001b[0m \u001b[1;31m#Another thing is to love the errors, and learn from them.\u001b[0m\u001b[1;33m\u001b[0m\u001b[1;33m\u001b[0m\u001b[0m\n",
      "\u001b[1;31mTypeError\u001b[0m: can only concatenate str (not \"int\") to str"
     ]
    }
   ],
   "source": [
    "print(name+a) #try this one to get the error\n",
    "\n",
    "#It will tell you what's wrong. \"TypeError: can only concatenate str (not \"int\") to str\"\n",
    "#Another thing is to love the errors, and learn from them."
   ]
  },
  {
   "cell_type": "code",
   "execution_count": 53,
   "id": "c65576a9",
   "metadata": {},
   "outputs": [
    {
     "name": "stdout",
     "output_type": "stream",
     "text": [
      "Hello Merve\n",
      "HelloMerve\n",
      "Hello Merve, how are you\n"
     ]
    }
   ],
   "source": [
    "#Let's also do some experiments with print() function and its string arguments which is put in the brackets.\n",
    "print(\"Hello\", name)  #Notice that the outcome have space in between string and name variable.\n",
    "print(\"Hello\"+ name)  #Notice that the outcome doesn't have space in between string and name variable.\n",
    "print(f\"Hello {name}, how are you\")  \n",
    "#Notice the arguments above are varied but still output decently thanks to f letter -stands for format- before the \"\"."
   ]
  },
  {
   "cell_type": "markdown",
   "id": "88737bbc",
   "metadata": {},
   "source": [
    "Other than the built in functions like print(), we can define new functions in Python. These are called user-defined functions.\n",
    "\n",
    "Let's define a function called greetings with def keyword which stands for define.\n",
    "\n",
    "Notice below that the function names are all followed by (), brackets, this is were we will put the arguments, parameters in.\n",
    "\n",
    "Also notice that, after greetings() we have put a colon(:) and then the next line is indented.\n",
    "This means we will further explain Python what it will do when it comes across this function."
   ]
  },
  {
   "cell_type": "code",
   "execution_count": 40,
   "id": "d3f46c46",
   "metadata": {},
   "outputs": [],
   "source": [
    "#This greetings function takes the name argument, and prints \"Hello, name\" for us. Name is a variable, that can be changed.\n",
    "#Running this code will only define the function, there will be no outcome. \n",
    "def greetings(name):\n",
    "    print(\"Hello\", name)\n",
    "    \n",
    "#Notice the indentation of the print line."
   ]
  },
  {
   "cell_type": "markdown",
   "id": "052dfa59",
   "metadata": {},
   "source": [
    "Notice that the keywords and built in functions and keywords are displayed in green, and the function name you defined is in blue, and the string is in red. There are color codes to help you out when you are coding."
   ]
  },
  {
   "cell_type": "code",
   "execution_count": 20,
   "id": "156edab3",
   "metadata": {},
   "outputs": [
    {
     "name": "stdout",
     "output_type": "stream",
     "text": [
      "Hello Merve\n"
     ]
    }
   ],
   "source": [
    "#In order to get an outcome, we need to call the function.\n",
    "greetings(name)   #Run the code to see the outcome. "
   ]
  },
  {
   "cell_type": "markdown",
   "id": "cb1b2bc7",
   "metadata": {},
   "source": [
    "In the code above, the Python knows that name variable is assigned to \"Merve\", so it outputs \"Merve\". \n",
    "But the greetings function can work with other strings as an argument, with its current definition. It takes one argument and prints it after \"Hello\" string. Let's try it out. "
   ]
  },
  {
   "cell_type": "code",
   "execution_count": 21,
   "id": "23d3cf47",
   "metadata": {},
   "outputs": [
    {
     "name": "stdout",
     "output_type": "stream",
     "text": [
      "Hello Frodo\n",
      "Hello Sam\n"
     ]
    }
   ],
   "source": [
    "greetings(\"Frodo\")\n",
    "greetings(\"Sam\") #Run the codes to see the outcome."
   ]
  },
  {
   "cell_type": "code",
   "execution_count": 9,
   "id": "bbb7ada3",
   "metadata": {},
   "outputs": [],
   "source": [
    "#Let's define another function with two arguments, name and grade, int and str type data together.\n",
    "\n",
    "def greetings_2(name,grade):\n",
    "    print(\"Hello\", name, \". You had\" , grade, \"points.\")\n",
    "    \n",
    "#Notice that, I have written all strings in between \"\", and variable names as they are. Also divided them with a comma. \n",
    "#Notice the indentation of the print line."
   ]
  },
  {
   "cell_type": "code",
   "execution_count": 58,
   "id": "4d020d99",
   "metadata": {},
   "outputs": [],
   "source": [
    "#Let's create a variable called grade and assign a numeric value to it.\n",
    "grade = 100"
   ]
  },
  {
   "cell_type": "code",
   "execution_count": 59,
   "id": "d1287f99",
   "metadata": {},
   "outputs": [
    {
     "name": "stdout",
     "output_type": "stream",
     "text": [
      "Hello Merve . You had 100 points.\n"
     ]
    }
   ],
   "source": [
    "#Now let's call the greetings_2 function:\n",
    "greetings_2(name, grade)"
   ]
  },
  {
   "cell_type": "markdown",
   "id": "d4072c71",
   "metadata": {},
   "source": [
    "Did you notice that the placement of the period is off? Let's try to fix it by rearranging the arguments of the print function."
   ]
  },
  {
   "cell_type": "code",
   "execution_count": 60,
   "id": "c9daa7a8",
   "metadata": {},
   "outputs": [],
   "source": [
    "#Let's use + instead of , to divide the variable and string.\n",
    "def greetings_2(name,grade):\n",
    "    print(\"Hello\", name+\". You had\" , grade, \"points.\")"
   ]
  },
  {
   "cell_type": "code",
   "execution_count": 61,
   "id": "9453c4f3",
   "metadata": {},
   "outputs": [
    {
     "name": "stdout",
     "output_type": "stream",
     "text": [
      "Hello Merve. You had 100 points.\n"
     ]
    }
   ],
   "source": [
    "greetings_2(name,grade) #Run the code to see the outcome."
   ]
  },
  {
   "cell_type": "code",
   "execution_count": 62,
   "id": "e0aa125b",
   "metadata": {},
   "outputs": [
    {
     "name": "stdout",
     "output_type": "stream",
     "text": [
      "Hello Frodo. You had 70 points.\n"
     ]
    }
   ],
   "source": [
    "#Now we have a function which takes two arguments. But we can redefine each of them, anytime we call the function:\n",
    "greetings_2(\"Frodo\", 70)"
   ]
  },
  {
   "cell_type": "code",
   "execution_count": 82,
   "id": "0c6a148c",
   "metadata": {},
   "outputs": [
    {
     "name": "stdout",
     "output_type": "stream",
     "text": [
      "Mellon.\n"
     ]
    }
   ],
   "source": [
    "#We can also define functions without arguments:\n",
    "def entering_moria():\n",
    "  print(\"Mellon.\")\n",
    "\n",
    "entering_moria()"
   ]
  },
  {
   "cell_type": "code",
   "execution_count": 88,
   "id": "62edc40a",
   "metadata": {},
   "outputs": [],
   "source": [
    "#Some more experiments with functions\n",
    "\n",
    "def sum(number1, number2):\n",
    "  print(number1+number2)"
   ]
  },
  {
   "cell_type": "code",
   "execution_count": 89,
   "id": "f73477e6",
   "metadata": {},
   "outputs": [
    {
     "name": "stdout",
     "output_type": "stream",
     "text": [
      "66\n"
     ]
    }
   ],
   "source": [
    "sum(29,37)"
   ]
  },
  {
   "cell_type": "code",
   "execution_count": 90,
   "id": "08b8fc3a",
   "metadata": {
    "scrolled": true
   },
   "outputs": [
    {
     "name": "stdout",
     "output_type": "stream",
     "text": [
      "66\n"
     ]
    }
   ],
   "source": [
    "result = sum(29,37)"
   ]
  },
  {
   "cell_type": "code",
   "execution_count": 91,
   "id": "2d5c8182",
   "metadata": {},
   "outputs": [
    {
     "name": "stdout",
     "output_type": "stream",
     "text": [
      "None\n"
     ]
    }
   ],
   "source": [
    "print(result)"
   ]
  },
  {
   "cell_type": "markdown",
   "id": "a6b219e2",
   "metadata": {},
   "source": [
    "Look at the code above, why we have got \"None\" output for print(result)? Because print(result) statement is outside the function. Here “None” means that we cannot further use this output in our code. To be able to use the output in our code, we need to use the “return” keyword."
   ]
  },
  {
   "cell_type": "code",
   "execution_count": 120,
   "id": "d8b1a29b",
   "metadata": {},
   "outputs": [],
   "source": [
    "def sum(number1, number2):\n",
    "    return number1+number2    #give me this result and store the value so that we can use it later outside of the function."
   ]
  },
  {
   "cell_type": "code",
   "execution_count": 116,
   "id": "3265297b",
   "metadata": {},
   "outputs": [],
   "source": [
    "#we could have also use this lines of code.\n",
    "\"\"\"def sum(number1, number2):\n",
    "  answer = number1 + number2\n",
    "  return answer\"\"\"\n",
    "#answer, here, is not a variable to be used outside of the function though."
   ]
  },
  {
   "cell_type": "code",
   "execution_count": 121,
   "id": "9faa0132",
   "metadata": {},
   "outputs": [
    {
     "data": {
      "text/plain": [
       "7"
      ]
     },
     "execution_count": 121,
     "metadata": {},
     "output_type": "execute_result"
    }
   ],
   "source": [
    "#Let's call the function with two new arguments. \n",
    "sum(5,2)"
   ]
  },
  {
   "cell_type": "code",
   "execution_count": 123,
   "id": "26967816",
   "metadata": {},
   "outputs": [],
   "source": [
    "result = sum(5,2)  #you don't get an oputput because of the absence of print() in the function description."
   ]
  },
  {
   "cell_type": "code",
   "execution_count": 124,
   "id": "9f903a48",
   "metadata": {},
   "outputs": [
    {
     "name": "stdout",
     "output_type": "stream",
     "text": [
      "7\n"
     ]
    }
   ],
   "source": [
    "print(result)      #you get an outcome, because of the presence of \"return\" in the function description."
   ]
  },
  {
   "cell_type": "code",
   "execution_count": 115,
   "id": "4919f62d",
   "metadata": {},
   "outputs": [
    {
     "name": "stdout",
     "output_type": "stream",
     "text": [
      "9\n"
     ]
    }
   ],
   "source": [
    "print(result + 2)"
   ]
  },
  {
   "cell_type": "code",
   "execution_count": 125,
   "id": "ee4be080",
   "metadata": {},
   "outputs": [
    {
     "data": {
      "text/plain": [
       "'Bon appetit!'"
      ]
     },
     "execution_count": 125,
     "metadata": {},
     "output_type": "execute_result"
    }
   ],
   "source": [
    "#more experiments with return\n",
    "def dinner():\n",
    "  return \"Bon appetit!\"\n",
    "\n",
    "dinner()"
   ]
  },
  {
   "cell_type": "code",
   "execution_count": 126,
   "id": "d6407ee3",
   "metadata": {},
   "outputs": [
    {
     "data": {
      "text/plain": [
       "'Bon appetit!'"
      ]
     },
     "execution_count": 126,
     "metadata": {},
     "output_type": "execute_result"
    }
   ],
   "source": [
    "def dinner():\n",
    "  sentence = \"Bon appetit!\"\n",
    "  return sentence\n",
    "\n",
    "dinner()"
   ]
  },
  {
   "cell_type": "code",
   "execution_count": 128,
   "id": "daa1cbca",
   "metadata": {},
   "outputs": [],
   "source": [
    "#"
   ]
  },
  {
   "cell_type": "code",
   "execution_count": 129,
   "id": "7452fd3d",
   "metadata": {},
   "outputs": [
    {
     "name": "stdout",
     "output_type": "stream",
     "text": [
      "6\n"
     ]
    },
    {
     "ename": "TypeError",
     "evalue": "unsupported operand type(s) for +: 'NoneType' and 'int'",
     "output_type": "error",
     "traceback": [
      "\u001b[1;31m---------------------------------------------------------------------------\u001b[0m",
      "\u001b[1;31mTypeError\u001b[0m                                 Traceback (most recent call last)",
      "\u001b[1;32m~\\AppData\\Local\\Temp/ipykernel_7132/3705546971.py\u001b[0m in \u001b[0;36m<module>\u001b[1;34m\u001b[0m\n\u001b[0;32m      6\u001b[0m \u001b[1;31m#However you won't get a result for the code below. In fact, you will get an error. Because result of myproduct(3,2) is \"None\".\u001b[0m\u001b[1;33m\u001b[0m\u001b[1;33m\u001b[0m\u001b[0m\n\u001b[0;32m      7\u001b[0m \u001b[1;33m\u001b[0m\u001b[0m\n\u001b[1;32m----> 8\u001b[1;33m \u001b[0mamount\u001b[0m \u001b[1;33m=\u001b[0m \u001b[0mmyproduct\u001b[0m\u001b[1;33m(\u001b[0m\u001b[1;36m3\u001b[0m\u001b[1;33m,\u001b[0m\u001b[1;36m2\u001b[0m\u001b[1;33m)\u001b[0m \u001b[1;33m+\u001b[0m\u001b[1;36m1\u001b[0m\u001b[1;33m\u001b[0m\u001b[1;33m\u001b[0m\u001b[0m\n\u001b[0m\u001b[0;32m      9\u001b[0m \u001b[0mprint\u001b[0m\u001b[1;33m(\u001b[0m\u001b[0mamount\u001b[0m\u001b[1;33m)\u001b[0m\u001b[1;33m\u001b[0m\u001b[1;33m\u001b[0m\u001b[0m\n",
      "\u001b[1;31mTypeError\u001b[0m: unsupported operand type(s) for +: 'NoneType' and 'int'"
     ]
    }
   ],
   "source": [
    "#another experiment. You will get a result because of the print function nested in our function called myproduct() below.\n",
    "\n",
    "def myproduct(sum1, sum2):\n",
    "  print(sum1*sum2)\n",
    "\n",
    "#However you won't get a result for the code below. In fact, you will get an error. Because result of myproduct(3,2) is \"None\".\n",
    "\n",
    "amount = myproduct(3,2) +1\n",
    "print(amount)"
   ]
  },
  {
   "cell_type": "code",
   "execution_count": 130,
   "id": "a5437809",
   "metadata": {},
   "outputs": [
    {
     "name": "stdout",
     "output_type": "stream",
     "text": [
      "7\n"
     ]
    }
   ],
   "source": [
    "#Try this code instead, with \"return\".\n",
    "\n",
    "def myproduct(sum1, sum2):\n",
    "  resultt = sum1*sum2\n",
    "  return resultt\n",
    "\n",
    "amount = myproduct(3,2) +1\n",
    "print(amount)"
   ]
  },
  {
   "cell_type": "code",
   "execution_count": null,
   "id": "80ef77cf",
   "metadata": {},
   "outputs": [],
   "source": []
  },
  {
   "cell_type": "markdown",
   "id": "397bffa5",
   "metadata": {},
   "source": [
    "We have learned that we can store a value to a variable that we define. How about assigning multiple values? We have lists for them."
   ]
  },
  {
   "cell_type": "code",
   "execution_count": 98,
   "id": "b3eefb70",
   "metadata": {},
   "outputs": [],
   "source": [
    "#We can store multiple values with different data types. Defining the list name and assigning the values can be done as:\n",
    "store_items = [\"apple\", 1.49, \"banana\", 1, \"milk\" ]\n",
    "\n",
    "#Notice that the square brackets are needed to store the list's items."
   ]
  },
  {
   "cell_type": "code",
   "execution_count": 99,
   "id": "fdceda12",
   "metadata": {},
   "outputs": [
    {
     "data": {
      "text/plain": [
       "list"
      ]
     },
     "execution_count": 99,
     "metadata": {},
     "output_type": "execute_result"
    }
   ],
   "source": [
    "#Let's check the data type of store_items\n",
    "type(store_items)"
   ]
  },
  {
   "cell_type": "code",
   "execution_count": 66,
   "id": "048786ca",
   "metadata": {},
   "outputs": [
    {
     "data": {
      "text/plain": [
       "'apple'"
      ]
     },
     "execution_count": 66,
     "metadata": {},
     "output_type": "execute_result"
    }
   ],
   "source": [
    "#Each element in the list gets an index number starting from zero. So we can access each of them by their index numbers.\n",
    "store_items[0]  #Run the code to see the result."
   ]
  },
  {
   "cell_type": "code",
   "execution_count": 67,
   "id": "8b25e287",
   "metadata": {},
   "outputs": [
    {
     "name": "stdout",
     "output_type": "stream",
     "text": [
      "apple\n",
      "1.49\n",
      "banana\n",
      "1\n",
      "milk\n"
     ]
    }
   ],
   "source": [
    "#Let's see them all.\n",
    "print(store_items[0])\n",
    "print(store_items[1])\n",
    "print(store_items[2])\n",
    "print(store_items[3])\n",
    "print(store_items[4])"
   ]
  },
  {
   "cell_type": "code",
   "execution_count": 68,
   "id": "411a3183",
   "metadata": {},
   "outputs": [
    {
     "data": {
      "text/plain": [
       "['apple', 1.49, 'banana', 1]"
      ]
     },
     "execution_count": 68,
     "metadata": {},
     "output_type": "execute_result"
    }
   ],
   "source": [
    "#We can also slice a piece of the list which means we can access multiple elements by slicing.\n",
    "store_items[0:4]\n",
    "#This code will give us the elements with index numbers starting from 0 (0 included), to 4 (4 is not included.)"
   ]
  },
  {
   "cell_type": "code",
   "execution_count": 70,
   "id": "620221fb",
   "metadata": {},
   "outputs": [
    {
     "data": {
      "text/plain": [
       "['banana', 1, 'milk']"
      ]
     },
     "execution_count": 70,
     "metadata": {},
     "output_type": "execute_result"
    }
   ],
   "source": [
    "#This code will give us the elements with index numbers starting from 2 (2 included), to the end of the list.\n",
    "store_items[2:]"
   ]
  },
  {
   "cell_type": "code",
   "execution_count": 12,
   "id": "9e340a8f",
   "metadata": {},
   "outputs": [
    {
     "data": {
      "text/plain": [
       "['apple', 1.49]"
      ]
     },
     "execution_count": 12,
     "metadata": {},
     "output_type": "execute_result"
    }
   ],
   "source": [
    "#This code will give us the elements from the beginning to 2nd (2nd is not included.)\n",
    "store_items[:2]"
   ]
  },
  {
   "cell_type": "markdown",
   "id": "0d422b9b",
   "metadata": {},
   "source": [
    "Notice that while slicing in lists, and using square brackets, we include the initial point but not include the end point."
   ]
  },
  {
   "cell_type": "code",
   "execution_count": 72,
   "id": "d4c7f46c",
   "metadata": {},
   "outputs": [],
   "source": [
    "#We can change the stored items in lists by directly targeting the index number and assigning a new value, as in example:\n",
    "store_items[2] = \"chocolate\""
   ]
  },
  {
   "cell_type": "code",
   "execution_count": 73,
   "id": "28a588c3",
   "metadata": {},
   "outputs": [
    {
     "data": {
      "text/plain": [
       "['apple', 1.49, 'chocolate', 1, 'milk']"
      ]
     },
     "execution_count": 73,
     "metadata": {},
     "output_type": "execute_result"
    }
   ],
   "source": [
    "#Let's call the list and see the elements of it and check if the change is done.\n",
    "store_items"
   ]
  },
  {
   "cell_type": "markdown",
   "id": "75f79c76",
   "metadata": {},
   "source": [
    "Let's experiment with the lists!"
   ]
  },
  {
   "cell_type": "code",
   "execution_count": 17,
   "id": "022baa33",
   "metadata": {},
   "outputs": [],
   "source": [
    "#First we create a list some places and foods.\n",
    "places_and_foods = [\"istanbul\", \"marmaris\", \"kapadokya\", \"fethiye\", \"asos\", \"sarma\", \"dolma\", \"su\", \"ayran\", \"meze\" ]"
   ]
  },
  {
   "cell_type": "code",
   "execution_count": 18,
   "id": "547f209f",
   "metadata": {},
   "outputs": [],
   "source": [
    "#Then we slice the places_and_foods list into two and create two different lists:\n",
    "places = places_and_foods[:5]\n",
    "foods = places_and_foods[5:]"
   ]
  },
  {
   "cell_type": "code",
   "execution_count": 19,
   "id": "d1c8bc80",
   "metadata": {},
   "outputs": [
    {
     "name": "stdout",
     "output_type": "stream",
     "text": [
      "['istanbul', 'marmaris', 'kapadokya', 'fethiye', 'asos'] ['sarma', 'dolma', 'su', 'ayran', 'meze']\n"
     ]
    }
   ],
   "source": [
    "#Check the lists\n",
    "print(places, foods)"
   ]
  },
  {
   "cell_type": "code",
   "execution_count": 20,
   "id": "1d394ded",
   "metadata": {},
   "outputs": [
    {
     "name": "stdout",
     "output_type": "stream",
     "text": [
      "['istanbul', 'marmaris', 'kapadokya']\n",
      "['su', 'ayran', 'meze']\n"
     ]
    }
   ],
   "source": [
    "#Let's take first three items of the places list and last three items of the foods list.\n",
    "print(places[:3])\n",
    "print(foods[2:])"
   ]
  },
  {
   "cell_type": "markdown",
   "id": "53974826",
   "metadata": {},
   "source": [
    "What if we don't want to select the items manually, but randomly? For that we need to use random module. Random module however, needs to be imported, before used."
   ]
  },
  {
   "cell_type": "code",
   "execution_count": 62,
   "id": "74b944d2",
   "metadata": {},
   "outputs": [],
   "source": [
    "#importing a module is as easy as follows:\n",
    "import random"
   ]
  },
  {
   "cell_type": "markdown",
   "id": "9c6a8f74",
   "metadata": {},
   "source": [
    "After importing random module, I can use it to generate a random number which will be used as the index number in my lists.\n",
    "For an index number, I have to generate a whole number, an integer, for that I need to use randint() method which will take two numbers as arguments for the interval.\n",
    "\n",
    "In order to use randint() method, we have to call random module before it, as follows: random.randint()"
   ]
  },
  {
   "cell_type": "code",
   "execution_count": 82,
   "id": "46128ebf",
   "metadata": {},
   "outputs": [
    {
     "data": {
      "text/plain": [
       "6"
      ]
     },
     "execution_count": 82,
     "metadata": {},
     "output_type": "execute_result"
    }
   ],
   "source": [
    "#Let's try to generate a random number in between 0 and 9 (both are included this time).\n",
    "random.randint(0,9)   #Run this code multiple times to see different random results."
   ]
  },
  {
   "cell_type": "code",
   "execution_count": 23,
   "id": "1ca29ea5",
   "metadata": {},
   "outputs": [
    {
     "data": {
      "text/plain": [
       "'istanbul'"
      ]
     },
     "execution_count": 23,
     "metadata": {},
     "output_type": "execute_result"
    }
   ],
   "source": [
    "#Notice that we got an int value after running the previous random.randint() code. \n",
    "#We can use the outcome of it as our index number in my lists.\n",
    "\n",
    "places[random.randint(0,2)]   #Run this code multiple times to see random results.\n",
    "#In the code above, the outcome of random.randint(0,2) is a number, either 0, 1 or 2. This will be used as an index number."
   ]
  },
  {
   "cell_type": "code",
   "execution_count": 24,
   "id": "b88be5ad",
   "metadata": {},
   "outputs": [
    {
     "data": {
      "text/plain": [
       "'su'"
      ]
     },
     "execution_count": 24,
     "metadata": {},
     "output_type": "execute_result"
    }
   ],
   "source": [
    "foods[random.randint(2,4)]  #Let's pick a random food as well."
   ]
  },
  {
   "cell_type": "markdown",
   "id": "5ef07f0f",
   "metadata": {},
   "source": [
    "Another built in function in Python is input.\n",
    "Let's assume that the data won't be predefined but rather the user will input the data for us.\n",
    "We define the variable name, user_data in this case, however, the user will input the value to be assigned.\n"
   ]
  },
  {
   "cell_type": "code",
   "execution_count": 3,
   "id": "853c4987",
   "metadata": {},
   "outputs": [
    {
     "name": "stdout",
     "output_type": "stream",
     "text": [
      "Sam\n"
     ]
    }
   ],
   "source": [
    "user_data = input()  #Run the code to see the input prompt and input a value. In example, Sam."
   ]
  },
  {
   "cell_type": "code",
   "execution_count": 4,
   "id": "edf78adb",
   "metadata": {},
   "outputs": [
    {
     "data": {
      "text/plain": [
       "'Sam'"
      ]
     },
     "execution_count": 4,
     "metadata": {},
     "output_type": "execute_result"
    }
   ],
   "source": [
    "#now let's see if the input data is stored\n",
    "user_data"
   ]
  },
  {
   "cell_type": "code",
   "execution_count": 5,
   "id": "9a347236",
   "metadata": {},
   "outputs": [
    {
     "name": "stdout",
     "output_type": "stream",
     "text": [
      "Enter your name, please: Merve\n"
     ]
    }
   ],
   "source": [
    "#Okay, let's make it more proper by adding an explanatory text.\n",
    "user_data = input(\"Enter your name, please: \")"
   ]
  },
  {
   "cell_type": "code",
   "execution_count": 6,
   "id": "ac3c1b0e",
   "metadata": {},
   "outputs": [
    {
     "data": {
      "text/plain": [
       "'Merve'"
      ]
     },
     "execution_count": 6,
     "metadata": {},
     "output_type": "execute_result"
    }
   ],
   "source": [
    "#Now let's check what is stored\n",
    "user_data"
   ]
  },
  {
   "cell_type": "code",
   "execution_count": 25,
   "id": "a735faf4",
   "metadata": {},
   "outputs": [
    {
     "name": "stdout",
     "output_type": "stream",
     "text": [
      "Enter your name, please: Merve\n",
      "Enter your age, please: 30\n",
      "Hello, Merve. You are 30 years old.\n"
     ]
    }
   ],
   "source": [
    "#Let's use both built in functions, input and print together.\n",
    "\n",
    "user_data1 = input(\"Enter your name, please: \")\n",
    "user_data2 = input(\"Enter your age, please: \")\n",
    "print(\"Hello,\", user_data1+\". You are\", user_data2, \"years old.\")"
   ]
  },
  {
   "cell_type": "code",
   "execution_count": 26,
   "id": "e5eb58f3",
   "metadata": {},
   "outputs": [
    {
     "name": "stdout",
     "output_type": "stream",
     "text": [
      "30 <class 'str'>\n"
     ]
    }
   ],
   "source": [
    "#Here is an important info. Input function, as default, stores the data as string data. \n",
    "print(user_data2, type(user_data2))"
   ]
  },
  {
   "cell_type": "markdown",
   "id": "3eefe014",
   "metadata": {},
   "source": [
    "If we want to use the input data as integer for some mathematical operations, let's say, we need to convert the data type to int."
   ]
  },
  {
   "cell_type": "code",
   "execution_count": 81,
   "id": "49aa15d5",
   "metadata": {},
   "outputs": [],
   "source": [
    "#Here is the way to convert the data type to integer, with built in int() function.\n",
    "\n",
    "user_data2 = int(user_data2)"
   ]
  },
  {
   "cell_type": "code",
   "execution_count": 28,
   "id": "11fcee51",
   "metadata": {},
   "outputs": [
    {
     "name": "stdout",
     "output_type": "stream",
     "text": [
      "30 <class 'int'>\n"
     ]
    }
   ],
   "source": [
    "print(user_data2, type(user_data2))"
   ]
  },
  {
   "cell_type": "code",
   "execution_count": 32,
   "id": "b67c9ace",
   "metadata": {},
   "outputs": [
    {
     "name": "stdout",
     "output_type": "stream",
     "text": [
      "Enter your name, please: Merve\n",
      "Enter your age, please: 30\n",
      "Hello, Merve. You were born in 1992 .\n"
     ]
    }
   ],
   "source": [
    "#Let's try something else\n",
    "user_data1 = input(\"Enter your name, please: \")\n",
    "user_data2 = int(input(\"Enter your age, please: \"))   #we convert the datatype here in order to use it in a math operation.\n",
    "print(\"Hello,\", user_data1+\". You were born in\", 2022-user_data2,\".\")"
   ]
  },
  {
   "cell_type": "code",
   "execution_count": 19,
   "id": "0151bc5f",
   "metadata": {},
   "outputs": [
    {
     "name": "stdout",
     "output_type": "stream",
     "text": [
      "2022-09-12 22:58:03.647954\n"
     ]
    }
   ],
   "source": [
    "#we can add other modules according to our need, with import statement, in example the date module:\n",
    "import datetime\n",
    "print(datetime.datetime.now())"
   ]
  },
  {
   "cell_type": "code",
   "execution_count": 37,
   "id": "2772349d",
   "metadata": {},
   "outputs": [
    {
     "data": {
      "text/plain": [
       "3"
      ]
     },
     "execution_count": 37,
     "metadata": {},
     "output_type": "execute_result"
    }
   ],
   "source": [
    "#another example is for mathematical tasks, math module\n",
    "import math   \n",
    "\n",
    "#returning the integer by removing the decimal for example\n",
    "math.floor(3.45)"
   ]
  },
  {
   "cell_type": "code",
   "execution_count": 38,
   "id": "6028eef8",
   "metadata": {},
   "outputs": [
    {
     "data": {
      "text/plain": [
       "7"
      ]
     },
     "execution_count": 38,
     "metadata": {},
     "output_type": "execute_result"
    }
   ],
   "source": [
    "math.floor(7.75)"
   ]
  },
  {
   "cell_type": "markdown",
   "id": "1688a63e",
   "metadata": {},
   "source": [
    "We have spoken about arithmetic operations and assignmetn operations. Let's see the comparison operations."
   ]
  },
  {
   "cell_type": "code",
   "execution_count": 34,
   "id": "5be20ef9",
   "metadata": {},
   "outputs": [
    {
     "data": {
      "text/plain": [
       "True"
      ]
     },
     "execution_count": 34,
     "metadata": {},
     "output_type": "execute_result"
    }
   ],
   "source": [
    "#The result of a comparison operation is either true or false.\n",
    "5 < 10"
   ]
  },
  {
   "cell_type": "code",
   "execution_count": 66,
   "id": "26ec7801",
   "metadata": {},
   "outputs": [
    {
     "name": "stdout",
     "output_type": "stream",
     "text": [
      "10 > 5 = True\n",
      "10 >= 5 = True\n",
      "10 < 5 = False\n",
      "10 <= 5 = False\n",
      "10 == 5 = False\n",
      "10 != 5 = True\n"
     ]
    }
   ],
   "source": [
    "#Let's experiment with comparison operators and the other things we have learned.\n",
    "num1 = 10\n",
    "num2 = 5\n",
    "#Notice that all the characters in between \"\" below are treated as string, not as operators.\n",
    "print(num1, \">\", num2, \"=\", num1 > num2)    #bigger\n",
    "print(num1, \">=\", num2, \"=\", num1 >= num2)  #bigger or equal\n",
    "print(num1, \"<\", num2, \"=\", num1 < num2)    #smaller  \n",
    "print(num1, \"<=\", num2, \"=\", num1 <= num2)  #smaller or equal\n",
    "print(num1, \"==\", num2, \"=\", num1 == num2)  #equal. Notice that equal symbol is ==, while assignment symbol is =.\n",
    "print(num1, \"!=\", num2, \"=\", num1 != num2)  #not equal"
   ]
  },
  {
   "cell_type": "markdown",
   "id": "9c34b139",
   "metadata": {},
   "source": [
    "We have been talking about arithmetic, assignment and comparison operations. There are also logical operations.\n",
    "\n",
    "Logical operators: and, or, not (for now).  Logical operands: True, False (in disguise :) )\n",
    "\n",
    "Let's talk about logical statements first. Assume that you consider going to a party, you can say:\n",
    "\n",
    "\"I will go to the party, only if Frodo and Sam come along.\" So, in order for you to go to the party (True), Frodo must come (True) and Sam must come (True). True and True = True.\n",
    "\n",
    "However, if either Frodo or Sam or both of them don't come along (False) , then you won't attend the party (False). True and False = False. False and True = False. False and False = False.\n",
    "\n",
    "You can also say \"I will go to the party, if Frodo or Sam comes along.\" So, in order for you to go to the party (True), either Frodo or Sam must come (True, False) or both of them must come(True,True). Yo won't come, only if none of them comes along. In this case: \n",
    "True or False = True. False or True = True. True or True = True. False or False = False. \n",
    "\n",
    "Lastly, not operator reverses the logical value. not True = False. nor False = True.\n",
    "\n",
    "That's it! Let's try this out."
   ]
  },
  {
   "cell_type": "code",
   "execution_count": 38,
   "id": "c9e61a3f",
   "metadata": {},
   "outputs": [
    {
     "name": "stdout",
     "output_type": "stream",
     "text": [
      "True\n",
      "False\n",
      "True\n",
      "False\n",
      "True\n",
      "False\n"
     ]
    }
   ],
   "source": [
    "print(True and True)\n",
    "print(True and False)\n",
    "print(True or False)\n",
    "print(True and False and True) \n",
    "print(True and False or True)\n",
    "print(not True)"
   ]
  },
  {
   "cell_type": "markdown",
   "id": "447144bb",
   "metadata": {},
   "source": [
    "Flow controls"
   ]
  },
  {
   "cell_type": "markdown",
   "id": "78ba94a0",
   "metadata": {},
   "source": [
    "After learning all these things, now is the time to learn if-else statements! These are conditional statements. The code only runs when the condition is true, such as: If True, then execute this."
   ]
  },
  {
   "cell_type": "code",
   "execution_count": 42,
   "id": "66198064",
   "metadata": {},
   "outputs": [
    {
     "name": "stdout",
     "output_type": "stream",
     "text": [
      "My favourite number is smaller than 15\n"
     ]
    }
   ],
   "source": [
    "#Let's define a variable called fav_number and assign a value.\n",
    "fav_number = 12\n",
    "\n",
    "#Now, if fav_number is smaller than 15, I want python to print a string for me. Here is how to do it:\n",
    "\n",
    "if fav_number < 15:\n",
    "    print(\"My favourite number is smaller than 15\")\n",
    "\n",
    "#Please notice the indentations. They are so important."
   ]
  },
  {
   "cell_type": "code",
   "execution_count": 47,
   "id": "878f1912",
   "metadata": {},
   "outputs": [],
   "source": [
    "#Let's try this code with a different fav_number value.\n",
    "fav_number = 18\n",
    "if fav_number < 15:\n",
    "    print(\"My favourite number is smaller than 15\")"
   ]
  },
  {
   "cell_type": "markdown",
   "id": "5c48129e",
   "metadata": {},
   "source": [
    "Can you see that there is no outcome above? It is because the print line of the code is not executed. Because the condition was not True. For this situation, we could tell python what to do, with \"else\" statement."
   ]
  },
  {
   "cell_type": "code",
   "execution_count": 48,
   "id": "f7af0b2a",
   "metadata": {},
   "outputs": [
    {
     "name": "stdout",
     "output_type": "stream",
     "text": [
      "Hot\n",
      "Good\n"
     ]
    }
   ],
   "source": [
    "#Another example:\n",
    "\n",
    "celsius = 32      #Here we assigned a value to a variable.\n",
    "\n",
    "if celsius >30:   #Here we want to check if condition1 is True.\n",
    "  print(\"Hot\")    #If condition1 is True, then this line will be executed.\n",
    "\n",
    "if celsius >20:   #Here we want to check if condition2 is True.\n",
    "  print(\"Good\")   #If condition2 is True, then this line will be executed.\n",
    "\n",
    "else:             #If neither of the statements are True\n",
    "  print(\"Cold\")   #Then this line will be executed."
   ]
  },
  {
   "cell_type": "markdown",
   "id": "29672aaa",
   "metadata": {},
   "source": [
    "In the code above, notice that the execution hasn't finished after the first if statement where the condition was True. Even if the first condition (celsius>30) was True, second statement is also checked, which was also True. Thus we had two outcomes: Hot and Good. If we want to ignore the second condition, if the first one is True, then we should use elif statements."
   ]
  },
  {
   "cell_type": "code",
   "execution_count": 41,
   "id": "464db7fc",
   "metadata": {},
   "outputs": [
    {
     "name": "stdout",
     "output_type": "stream",
     "text": [
      "Hot\n"
     ]
    }
   ],
   "source": [
    "celsius = 32\n",
    "if celsius >30:\n",
    "  print(\"Hot\")\n",
    "elif celsius >20:     #elif is an alternative condition if the first one is not true\n",
    "  print(\"Good\")\n",
    "else:                 #if none is true, then else statement works.\n",
    "  print(\"Cold\")\n",
    "\n",
    "#The outcome will be only \"Hot\", since the first if statement is True. Elif statement is not executed."
   ]
  },
  {
   "cell_type": "code",
   "execution_count": 42,
   "id": "29caea32",
   "metadata": {},
   "outputs": [
    {
     "name": "stdout",
     "output_type": "stream",
     "text": [
      "Cold\n"
     ]
    }
   ],
   "source": [
    "#Also we can precisely define all the conditions.\n",
    "celsius = 15\n",
    "if celsius > 30:\n",
    "  print(\"Hot\")\n",
    "elif 30 >= celsius > 20:\n",
    "  print(\"Good\")\n",
    "elif -273 < celsius <= 20:\n",
    "  print(\"Cold\")\n",
    "else:\n",
    "  print(\"Something went wrong!\")"
   ]
  },
  {
   "cell_type": "code",
   "execution_count": 43,
   "id": "0e7edd79",
   "metadata": {},
   "outputs": [
    {
     "name": "stdout",
     "output_type": "stream",
     "text": [
      "You can drive a car.\n"
     ]
    }
   ],
   "source": [
    "#We also need to discuss \"nested if statements\" which are if statements placed in another if statement.\n",
    "#Let's think about driving, you need to be at least 17 years old and have driver's licence.\n",
    "\n",
    "#This is our example, the person is 17 y.o. and has a driver's licence.\n",
    "drivers_licence = True\n",
    "age = 17\n",
    "\n",
    "#So first the person needs to be over 17, else she cannot drive. \n",
    "#Also, even if she is over 17, she needs to have d.licence, else she cannot drive. \n",
    "if age >= 17:\n",
    "  if drivers_licence:\n",
    "    print(\"You can drive a car.\")\n",
    "  else:\n",
    "    print(\"You need to get a driver's licence\")\n",
    "else:\n",
    "  print(\"You need to get older\")"
   ]
  },
  {
   "cell_type": "code",
   "execution_count": 45,
   "id": "acc9fa7f",
   "metadata": {},
   "outputs": [
    {
     "name": "stdout",
     "output_type": "stream",
     "text": [
      "You can have dinner in school dining hall.\n"
     ]
    }
   ],
   "source": [
    "#Another example, you want to eat at school dining hall.\n",
    "\n",
    "school_card = True\n",
    "card_balance = 10\n",
    "\n",
    "if school_card:\n",
    "  if card_balance >= 10:\n",
    "    print(\"You can have dinner in school dining hall.\")\n",
    "  else:\n",
    "    print(\"You need to load your card.\")\n",
    "else:\n",
    "  print(\"You need to obtain a school card.\")"
   ]
  },
  {
   "cell_type": "markdown",
   "id": "45037d12",
   "metadata": {},
   "source": [
    "The next topic is Loops! Loops are used for repetitive tasks. There are \"for\" and \"while\" loops."
   ]
  },
  {
   "cell_type": "code",
   "execution_count": 47,
   "id": "a7773389",
   "metadata": {},
   "outputs": [
    {
     "name": "stdout",
     "output_type": "stream",
     "text": [
      "E\n",
      "y\n",
      "j\n",
      "a\n",
      "f\n",
      "j\n",
      "a\n",
      "l\n",
      "l\n",
      "a\n",
      "j\n",
      "ö\n",
      "k\n",
      "u\n",
      "l\n",
      "l\n",
      "Loop is completed.\n"
     ]
    }
   ],
   "source": [
    "#Let's assume that we have a string and we want to reach each and every letter of it\n",
    "#or we have a list and we want to reach each and every item of it.\n",
    "\n",
    "volcano_name = \"Eyjafjallajökull\"\n",
    "\n",
    "# \"i\" letter below is like an index number, it could be any other letter or even a word.\n",
    "\n",
    "for i in volcano_name:        #in volcano_name variable, check every content (letters in this case), from beginning to end.\n",
    "  print(i)                    #and print each \"i\", each content (letters in this case).\n",
    "print(\"Loop is completed.\")   #when it is over, when you are out of loop, print this."
   ]
  },
  {
   "cell_type": "code",
   "execution_count": 49,
   "id": "dd267d61",
   "metadata": {},
   "outputs": [
    {
     "name": "stdout",
     "output_type": "stream",
     "text": [
      "apple\n",
      "1.49\n",
      "banana\n",
      "1\n",
      "milk\n",
      "Loop is completed.\n"
     ]
    }
   ],
   "source": [
    "#Let's try something else. Remember the list we defined before, store_items? \n",
    "\n",
    "for i in store_items:\n",
    "  print(i)\n",
    "print(\"Loop is completed.\")"
   ]
  },
  {
   "cell_type": "code",
   "execution_count": 53,
   "id": "bfe9e17b",
   "metadata": {},
   "outputs": [
    {
     "name": "stdout",
     "output_type": "stream",
     "text": [
      "apple\n",
      "1.49\n",
      "banana\n",
      "1\n",
      "milk\n",
      "Loop is completed.\n"
     ]
    }
   ],
   "source": [
    "#Some more experiments\n",
    "for item in store_items:\n",
    "  print(item)\n",
    "print(\"Loop is completed.\")"
   ]
  },
  {
   "cell_type": "code",
   "execution_count": 52,
   "id": "2ef3151b",
   "metadata": {},
   "outputs": [
    {
     "name": "stdout",
     "output_type": "stream",
     "text": [
      "apple\n",
      "1.49\n",
      "banana\n",
      "1\n",
      "milk\n",
      "Loop is completed.\n"
     ]
    }
   ],
   "source": [
    "#Some more experiments\n",
    "for b in store_items:\n",
    "  print(b)\n",
    "print(\"Loop is completed.\")"
   ]
  },
  {
   "cell_type": "code",
   "execution_count": 56,
   "id": "cdd30fb1",
   "metadata": {},
   "outputs": [
    {
     "name": "stdout",
     "output_type": "stream",
     "text": [
      "5\n",
      "6\n",
      "7\n",
      "8\n",
      "9\n",
      "Loop is Completed.\n"
     ]
    }
   ],
   "source": [
    "#Instead of defining a list beforehand, we can define an interval, too, with range function in python.\n",
    "\n",
    "# range(10)   - creates a list of numbers from 0 to 9. 0 is included, 10 is not included.\n",
    "# range(2,20) - creates a list of numbers from 2 to 19. 2 is included, 20 is not included.\n",
    "\n",
    "for i in range(5, 10):\n",
    "  print(i)\n",
    "print(\"Loop is Completed.\")"
   ]
  },
  {
   "cell_type": "code",
   "execution_count": 58,
   "id": "814768a6",
   "metadata": {},
   "outputs": [
    {
     "name": "stdout",
     "output_type": "stream",
     "text": [
      "5\n",
      "10\n",
      "15\n",
      "20\n",
      "25\n",
      "30\n",
      "35\n",
      "40\n",
      "45\n",
      "50\n"
     ]
    }
   ],
   "source": [
    "#Another example. The code below find the numbers which are multiples of 5.\n",
    "\n",
    "for i in range(1, 51):\n",
    "  if i % 5 == 0:\n",
    "    print(i)"
   ]
  },
  {
   "cell_type": "markdown",
   "id": "81feae13",
   "metadata": {},
   "source": [
    "Now let's discuss \"while loops\". Loops are for repetitive tasks. But \"for loops\" happen for a finite repetition. \"While loops\", however, happen as long as the condition is True. "
   ]
  },
  {
   "cell_type": "code",
   "execution_count": 68,
   "id": "f9ae7a69",
   "metadata": {},
   "outputs": [
    {
     "name": "stdout",
     "output_type": "stream",
     "text": [
      "The current room temperature is 10 degree\n",
      "Cold\n",
      "The current room temperature is 15 degree\n",
      "Cold\n",
      "The current room temperature is 20 degree\n",
      "Cold\n",
      "The current room temperature is 25 degree\n",
      "Good\n",
      "The current room temperature is 30 degree\n",
      "Good\n",
      "The current room temperature is 35 degree\n",
      "Hot\n",
      "The current room temperature is 40 degree\n",
      "Hot\n",
      "The current room temperature is 45 degree\n",
      "Hot\n",
      "The current room temperature is 50 degree\n",
      "Hot\n"
     ]
    }
   ],
   "source": [
    "#Remember the if statement example with celcius degrees? Here we will use it to write a while loop.\n",
    "#Assume that we want the room temperature to increase gradually by 5 and stop when it reaches to 50 celcius degree.\n",
    "\n",
    "#Let's set an initial temperature for the room:\n",
    "celsius =10\n",
    "\n",
    "#now the loop:\n",
    "while celsius < 51:      #this will give an ending point to our loop. It is important.\n",
    "  print(\"The current room temperature is\", celsius, \"degree\")\n",
    "\n",
    "  if celsius > 30:\n",
    "    print(\"Hot\")\n",
    "  elif 30 >= celsius > 20:\n",
    "    print(\"Good\")\n",
    "  elif -273 < celsius <= 20:\n",
    "    print(\"Cold\")\n",
    "  else:\n",
    "    print(\"Something went wrong!\")\n",
    "    \n",
    "  celsius +=5\n"
   ]
  },
  {
   "cell_type": "markdown",
   "id": "c47acaf4",
   "metadata": {},
   "source": [
    "When you run the code above, you get all the results at once, right? What if you want it to show you each step slowly? We can use time module for that."
   ]
  },
  {
   "cell_type": "code",
   "execution_count": 67,
   "id": "8033ff56",
   "metadata": {},
   "outputs": [
    {
     "name": "stdout",
     "output_type": "stream",
     "text": [
      "The current room temperature is 10\n",
      "Cold\n",
      "The current room temperature is 15\n",
      "Cold\n",
      "The current room temperature is 20\n",
      "Cold\n",
      "The current room temperature is 25\n",
      "Good\n",
      "The current room temperature is 30\n",
      "Good\n",
      "The current room temperature is 35\n",
      "Hot\n",
      "The current room temperature is 40\n",
      "Hot\n",
      "The current room temperature is 45\n",
      "Hot\n",
      "The current room temperature is 50\n",
      "Hot\n"
     ]
    }
   ],
   "source": [
    "import time  \n",
    "\n",
    "celsius =10\n",
    "while celsius < 51:          #this will give an ending point to our loop. It is important.\n",
    "  print(\"The current room temperature is\", celsius)\n",
    "\n",
    "  if celsius > 30:\n",
    "    print(\"Hot\")\n",
    "  elif 30 >= celsius > 20:\n",
    "    print(\"Good\")\n",
    "  elif -273 < celsius <= 20:\n",
    "    print(\"Cold\")\n",
    "  else:\n",
    "    print(\"Something went wrong!\")\n",
    "    \n",
    "  celsius +=5\n",
    "  time.sleep(1)  #it will wait 1 second before outputting the each step"
   ]
  },
  {
   "cell_type": "markdown",
   "id": "2258d2f8",
   "metadata": {},
   "source": [
    "Another topic is \"infinite loops\" which needs to be avoided. If you write an infinitely True condition, then you end up an infinite loop. It is not wanted because the code keeps running forever -as long as your pc's memory lets it to- which can lead to crash your program or computer. You can press CTRL+C to end the infinite loop. But better not initiate it at all."
   ]
  },
  {
   "cell_type": "code",
   "execution_count": 63,
   "id": "0af02045",
   "metadata": {},
   "outputs": [
    {
     "name": "stdout",
     "output_type": "stream",
     "text": [
      "2\n",
      "8\n",
      "5\n",
      "6\n",
      "0\n",
      "3\n",
      "2\n",
      "9\n",
      "5\n",
      "3\n",
      "7\n",
      "Found\n"
     ]
    }
   ],
   "source": [
    "#We can add stopping points to our code with \"break\" command to stop when it is reached.\n",
    "\n",
    "#Let's say that we want to find random points, print them all out till a specific number is found.\n",
    "\n",
    "while True:                              #a start that can lead to an infinite loop.\n",
    "  \n",
    "  random_number = random.randrange(10)   #choose a random number between 0 and 10. Random module was imported before.\n",
    "  print(random_number)                   #print all the random_number values out.\n",
    "\n",
    "  if random_number == 7:                 #if you come across the number 7,\n",
    "    print(\"Found\")                       #print this string,\n",
    "    break                                #and stop to loop."
   ]
  },
  {
   "cell_type": "code",
   "execution_count": 65,
   "id": "ecc06a8b",
   "metadata": {},
   "outputs": [
    {
     "name": "stdout",
     "output_type": "stream",
     "text": [
      "1\n",
      "2\n",
      "3\n",
      "4\n",
      "5\n",
      "6\n",
      "7\n",
      "finish!\n"
     ]
    }
   ],
   "source": [
    "#Another while loop example which stops with break command:\n",
    "\n",
    "counter = 0\n",
    "\n",
    "while counter >= 0:\n",
    "  counter += 1\n",
    "  print(counter)\n",
    "  time.sleep(1)   #we imported time module before. it will wait 1 second before outputting the each step.\n",
    "\n",
    "  if counter == 7:\n",
    "    print(\"finish!\")\n",
    "    break"
   ]
  },
  {
   "cell_type": "code",
   "execution_count": 72,
   "id": "11a82388",
   "metadata": {},
   "outputs": [
    {
     "name": "stdout",
     "output_type": "stream",
     "text": [
      "Merve is a string\n",
      "Frodo is a string\n",
      "Sam is a string\n",
      "30 is not a string. <class 'int'>\n"
     ]
    }
   ],
   "source": [
    "#Let's also give an example of a for loop which stops with break command.\n",
    "#Assume that we have a list of names, but there is another type of data in the list, which needs to be found.\n",
    "\n",
    "names = [\"Merve\", \"Frodo\", \"Sam\", 30, \"Eomer\"]\n",
    "\n",
    "for i in names:                                      #checking every item in the names lists one by one.\n",
    "  if type(i) != str:                                 #if the data type of the item is not string,\n",
    "    print(i, \"is not a string.\", type(i))    #print this.\n",
    "    break                                            #and break the loop.\n",
    "  else:\n",
    "    print(i, \"is a string\")"
   ]
  },
  {
   "cell_type": "markdown",
   "id": "0738ca8c",
   "metadata": {},
   "source": [
    "Notice that in the code above, the execution stopped with the break command, when the loop reached to the integer. It didn't continue to check the last item 'Eomer'. However we could have done that as follows:"
   ]
  },
  {
   "cell_type": "code",
   "execution_count": 73,
   "id": "f200ba92",
   "metadata": {},
   "outputs": [
    {
     "name": "stdout",
     "output_type": "stream",
     "text": [
      "Merve is a string\n",
      "Frodo is a string\n",
      "Sam is a string\n",
      "30 is not a string. <class 'int'>\n",
      "Eomer is a string\n"
     ]
    }
   ],
   "source": [
    "#Since there is a list of finite items, the loop is not infinite. It stops when all the items are checked.\n",
    "names = [\"Merve\", \"Frodo\", \"Sam\", 30, \"Eomer\"]\n",
    "\n",
    "for i in names:\n",
    "  if type(i) != str:\n",
    "    print(i, \"is not a string.\", type(i))\n",
    "  else:\n",
    "    print(i, \"is a string\")"
   ]
  },
  {
   "cell_type": "markdown",
   "id": "4efc2317",
   "metadata": {},
   "source": [
    "#### LET'S DEVELOP A GAME TOGETHER!"
   ]
  },
  {
   "cell_type": "markdown",
   "id": "dbb74351",
   "metadata": {},
   "source": [
    "After learning all of these, let's do something fun together and write something a little bit more complex."
   ]
  },
  {
   "cell_type": "markdown",
   "id": "d70d9133",
   "metadata": {},
   "source": [
    "We will code an easy and well known game: Rock, paper, scissors. Before heading to the code below, I recommend you to try to code the game by yourself, or at least think about the rules and how to define them."
   ]
  },
  {
   "cell_type": "code",
   "execution_count": 79,
   "id": "502bf3b1",
   "metadata": {},
   "outputs": [
    {
     "name": "stdout",
     "output_type": "stream",
     "text": [
      "Rock, Paper, Scissors Game\n",
      "How many rounds will you play?3\n",
      "Beginning! Score of the player1 = 0 . Score of the player2 = 0\n",
      "Round 1 Action for player 1 is scissors . Action for player 2 is paper\n",
      "Player1 has won this round! P1 = 1 . P2 = 0\n",
      "Round 2 Action for player 1 is scissors . Action for player 2 is paper\n",
      "Player1 has won this round! P1 = 2 . P2 = 0\n",
      "Round 3 Action for player 1 is scissors . Action for player 2 is scissors\n",
      "Tie! Both players chose the same action. P1 = 2 . P2 = 0\n",
      "The game is finished.\n",
      "Player 1 has won the game!\n"
     ]
    }
   ],
   "source": [
    "import random     #In each turn the decisions should appear randomly.\n",
    "\n",
    "rps_game = [\"rock\", \"paper\", \"scissors\"]   #We need to create a list containing the three actions of the game\n",
    "print(\"Rock, Paper, Scissors Game\")        #Here is the introduction to our game.\n",
    "\n",
    "#First, let's ask the user how many rounds they want to play. And add a counter for the rounds.\n",
    "n_of_rounds = int(input(\"How many rounds will you play?\"))\n",
    "round_counter = 0\n",
    "\n",
    "#Then we need to keep track of the score. For this, we need to create a variable for each player that is 0 in the beginning.\n",
    "score_of_player1 = 0 \n",
    "score_of_player2 = 0  \n",
    "print(\"Beginning! Score of the player1 =\", score_of_player1, \". Score of the player2 =\", score_of_player2)\n",
    "\n",
    "#Let's define some strings to help us.\n",
    "p1 = \"Player1 has won this round!\"\n",
    "p2 = \"Player2 has won this round!\"\n",
    "\n",
    "#Finally, let's write our for loop with if statements which will define the rules of the game. \n",
    "\n",
    "for i in range(n_of_rounds):      #n_of_rounds is taken from the user's input. The loop will only repeat this many times.\n",
    "    \n",
    "  action_for_player1 = random.choice(rps_game)          #randomly choosing an item from rps_game list.\n",
    "  action_for_player2 = rps_game[random.randint(0,2)]    #randomly choosing an item from rps_game list.\n",
    "    \n",
    "  round_counter += 1    #round number should increase each time by one till it reaches the n_of_rounds.\n",
    "\n",
    "  print(\"Round\", round_counter, \"Action for player 1 is\", action_for_player1, \". Action for player 2 is\",action_for_player2)\n",
    "\n",
    "  if action_for_player1 == \"paper\" and action_for_player2 == \"rock\":\n",
    "    score_of_player1 += 1\n",
    "    print(p1, \"P1 =\", score_of_player1, \". P2 =\", score_of_player2)\n",
    "  elif action_for_player1 == \"paper\" and action_for_player2 == \"scissors\":\n",
    "    score_of_player2 += 1\n",
    "    print(p2, \"P1 =\", score_of_player1, \". P2 =\", score_of_player2)\n",
    "  elif action_for_player1 == \"scissors\" and action_for_player2 == \"rock\":\n",
    "    score_of_player2 += 1\n",
    "    print(p2, \"P1 =\", score_of_player1, \". P2 =\", score_of_player2)\n",
    "  elif action_for_player1 == \"scissors\" and action_for_player2 == \"paper\":\n",
    "    score_of_player1 += 1\n",
    "    print(p1, \"P1 =\", score_of_player1, \". P2 =\", score_of_player2)\n",
    "  elif action_for_player1 == \"rock\" and action_for_player2 == \"paper\":\n",
    "    score_of_player2 += 1\n",
    "    print(p2, \"P1 =\", score_of_player1, \". P2 =\", score_of_player2)\n",
    "  elif action_for_player1 == \"rock\" and action_for_player2 == \"scissors\":\n",
    "    score_of_player1 += 1\n",
    "    print(p1, \"P1 =\", score_of_player1, \". P2 =\", score_of_player2)\n",
    "  else:\n",
    "    print(\"Tie! Both players chose the same action. P1 =\", score_of_player1, \". P2 =\", score_of_player2)\n",
    "\n",
    "#Let's add some end notes too.\n",
    "print(\"The game is finished.\")\n",
    "\n",
    "if score_of_player1 > score_of_player2:\n",
    "  print(\"Player 1 has won the game!\")\n",
    "elif score_of_player2 > score_of_player1:\n",
    "  print(\"Player 2 has won the game!\")\n",
    "else:\n",
    "  print(\"Tie!\")"
   ]
  },
  {
   "cell_type": "code",
   "execution_count": 80,
   "id": "21bc8af3",
   "metadata": {},
   "outputs": [
    {
     "name": "stdout",
     "output_type": "stream",
     "text": [
      "Rock, Paper, Scissors Game\n",
      "How many rounds will you play?3\n",
      "Beginning! Score of the player1 = 0 . Score of the player2 = 0\n",
      "Round 1 Action for player 1 is paper . Action for player 2 is rock\n",
      "Player1 has won this round! P1 = 1 . P2 = 0\n",
      "Round 2 Action for player 1 is rock . Action for player 2 is paper\n",
      "Player2 has won this round! P1 = 1 . P2 = 1\n",
      "Round 3 Action for player 1 is rock . Action for player 2 is rock\n",
      "Tie! Both players chose the same action. P1 = 1 . P2 = 1\n",
      "The game is finished.\n",
      "Tie!\n"
     ]
    }
   ],
   "source": [
    "#Wasn't this fun? Let's try writing this loop ith while.\n",
    "\n",
    "import random\n",
    "\n",
    "rps_game = [\"rock\", \"paper\", \"scissors\"]\n",
    "print(\"Rock, Paper, Scissors Game\")\n",
    "\n",
    "n_of_rounds = int(input(\"How many rounds will you play?\"))\n",
    "round_counter = 0\n",
    "\n",
    "score_of_player1 = 0 \n",
    "score_of_player2 = 0  \n",
    "print(\"Beginning! Score of the player1 =\", score_of_player1, \". Score of the player2 =\", score_of_player2)\n",
    "\n",
    "p1 = \"Player1 has won this round!\"\n",
    "p2 = \"Player2 has won this round!\"\n",
    "\n",
    "while True:   #we will definitely need a stopping point with break command.\n",
    "  action_for_player1 = random.choice(rps_game)          \n",
    "  action_for_player2 = rps_game[random.randint(0,2)]    \n",
    "    \n",
    "  round_counter += 1 \n",
    "\n",
    "  print(\"Round\", round_counter, \"Action for player 1 is\", action_for_player1, \". Action for player 2 is\",action_for_player2)\n",
    "\n",
    "  if action_for_player1 == \"paper\" and action_for_player2 == \"rock\":\n",
    "    score_of_player1 += 1\n",
    "    print(p1, \"P1 =\", score_of_player1, \". P2 =\", score_of_player2)\n",
    "  elif action_for_player1 == \"paper\" and action_for_player2 == \"scissors\":\n",
    "    score_of_player2 += 1\n",
    "    print(p2, \"P1 =\", score_of_player1, \". P2 =\", score_of_player2)\n",
    "  elif action_for_player1 == \"scissors\" and action_for_player2 == \"rock\":\n",
    "    score_of_player2 += 1\n",
    "    print(p2, \"P1 =\", score_of_player1, \". P2 =\", score_of_player2)\n",
    "  elif action_for_player1 == \"scissors\" and action_for_player2 == \"paper\":\n",
    "    score_of_player1 += 1\n",
    "    print(p1, \"P1 =\", score_of_player1, \". P2 =\", score_of_player2)\n",
    "  elif action_for_player1 == \"rock\" and action_for_player2 == \"paper\":\n",
    "    score_of_player2 += 1\n",
    "    print(p2, \"P1 =\", score_of_player1, \". P2 =\", score_of_player2)\n",
    "  elif action_for_player1 == \"rock\" and action_for_player2 == \"scissors\":\n",
    "    score_of_player1 += 1\n",
    "    print(p1, \"P1 =\", score_of_player1, \". P2 =\", score_of_player2)\n",
    "  else:\n",
    "    print(\"Tie! Both players chose the same action. P1 =\", score_of_player1, \". P2 =\", score_of_player2)\n",
    "    \n",
    "  if round_counter == n_of_rounds:   #here is out stopping point.\n",
    "  #if score_of_player1 == 3:         #Another way to end the loop, when one of the players reach a specific score.\n",
    "    print(\"The game is finished.\")\n",
    "    break\n",
    "\n",
    "if score_of_player1 > score_of_player2:\n",
    "  print(\"Player 1 has won the game!\")\n",
    "elif score_of_player2 > score_of_player1:\n",
    "  print(\"Player 2 has won the game!\")\n",
    "else:\n",
    "  print(\"Tie!\")"
   ]
  },
  {
   "cell_type": "markdown",
   "id": "ac2c1fce",
   "metadata": {},
   "source": [
    "After this exercise, let's think a bit. What do you think about my solution for this game problem? Would you do it differently? I recommend thinking on it and trying new solutions out!"
   ]
  },
  {
   "cell_type": "code",
   "execution_count": 131,
   "id": "2339a2bf",
   "metadata": {},
   "outputs": [],
   "source": [
    "#to be continued."
   ]
  },
  {
   "cell_type": "code",
   "execution_count": null,
   "id": "a6ac0ff4",
   "metadata": {},
   "outputs": [],
   "source": []
  }
 ],
 "metadata": {
  "kernelspec": {
   "display_name": "Python 3 (ipykernel)",
   "language": "python",
   "name": "python3"
  },
  "language_info": {
   "codemirror_mode": {
    "name": "ipython",
    "version": 3
   },
   "file_extension": ".py",
   "mimetype": "text/x-python",
   "name": "python",
   "nbconvert_exporter": "python",
   "pygments_lexer": "ipython3",
   "version": "3.9.7"
  }
 },
 "nbformat": 4,
 "nbformat_minor": 5
}
